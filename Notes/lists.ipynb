{
 "cells": [
  {
   "attachments": {},
   "cell_type": "markdown",
   "metadata": {},
   "source": [
    "# Lists in Python"
   ]
  },
  {
   "attachments": {},
   "cell_type": "markdown",
   "metadata": {},
   "source": [
    "1. List in Python is a collection of ordered, mutable and heterogeneous elements which can be same or of different data types (such as integers, float, string, boolean, other lists etc), which are enclosed in square brackets.\n",
    "\n",
    "2. We use [] to store elements and to separate them.\n",
    "\n",
    "3. Example:\n",
    "    [2,5,6,8,29]\n",
    "    [300, “cat”, 189.65]\n",
    "    [[1,2], [3,4]]\n",
    "\n",
    "4. Lists support indexing and slicing. Indexing starts with 0. First element of the list has an index of 0, second element has an index of 2 and so on. Positive indexing starts from 0 from the first element and negative indexing is used to access the list elements from the end.\n",
    "\n",
    "5. Lists can be nested that is you can have one list in another list letting you to create more complex data structures. \n",
    "\n",
    "6. Lists are mutable that is their content can be modified after creation, making lists the versatile data structure for a wide range of applications. You can add, delete, modify or remove element from the list.\n",
    "\n",
    "7. List Comprehension is a way to create new lists based on existing lists. This helps to apply filter and transformation to generate new list in a single line of code.\n",
    "\n",
    "8. Lists consumes memory based on the number of elements they contain. As lists are mutable, they can increase or decrease in size. Hence, the memory usage of the lists is flexible.\n"
   ]
  },
  {
   "cell_type": "code",
   "execution_count": 3,
   "metadata": {},
   "outputs": [
    {
     "name": "stdout",
     "output_type": "stream",
     "text": [
      "[1, 2, 3, 4, 5]\n",
      "['Hello', 'Hi', 'Good Morning']\n",
      "[1, 3, 'Hi', 45.89]\n"
     ]
    }
   ],
   "source": [
    "## Create Lists using square [] brackets\n",
    "\n",
    "# List with numbers as elements\n",
    "myList = [1, 2, 3, 4, 5]\n",
    "print(myList)    # Output: [1, 2, 3, 4, 5]\n",
    "\n",
    "# List with strings as elements\n",
    "myList = [\"Hello\", \"Hi\", \"Good Morning\"]\n",
    "print(myList)     # Output: ['Hello', 'Hi', 'Good Morning']\n",
    "\n",
    "# List with heterogeneous elements\n",
    "myList = [1, 3, \"Hi\", 45.89]\n",
    "print(myList)     # Output: [1, 3, 'Hi', 45.89]\n"
   ]
  },
  {
   "cell_type": "code",
   "execution_count": 5,
   "metadata": {},
   "outputs": [
    {
     "name": "stdout",
     "output_type": "stream",
     "text": [
      "First element of the list:  11\n",
      "Second element of the list:  22\n",
      "Last element of the list is:  99\n",
      "Second last element of the list is:  88\n"
     ]
    }
   ],
   "source": [
    "## Accessing List elements\n",
    "# we use index to access the list elements. Index of the list starts at index 0.\n",
    "\n",
    "myList = [11, 22, 33, 44, 55, 66, 77, 88, 99]\n",
    "\n",
    "print(\"First element of the list: \", myList[0])   # Output: First element of the list:  11\n",
    "print(\"Second element of the list: \", myList[1])  # output is: Second element of the list:  22\n",
    "\n",
    "# Negative index number is used to access list elements from the end\n",
    "\n",
    "print(\"Last element of the list is: \", myList[-1])            # Output: Last element of the list is:  99\n",
    "print(\"Second last element of the list is: \", myList[-2])     # Output: Second last element of the list is:  88\n"
   ]
  },
  {
   "cell_type": "code",
   "execution_count": 10,
   "metadata": {},
   "outputs": [
    {
     "name": "stdout",
     "output_type": "stream",
     "text": [
      "Original list\n",
      "[11, 22, 33, 44, 55, 66, 77, 88, 99]\n",
      "\n",
      "Third element of the list is:  33\n",
      "Updated third element of the list is:  100\n",
      "Updated fifth element of the list is:  Hello\n",
      "Updated list\n",
      "[11, 22, 100, 44, 'Hello', 66, 77, 88, 99]\n"
     ]
    }
   ],
   "source": [
    "## Modifying List elements\n",
    "myList = [11, 22, 33, 44, 55, 66, 77, 88, 99]\n",
    "\n",
    "print(\"Original list\")\n",
    "print(myList)    # Output: [11, 22, 33, 44, 55, 66, 77, 88, 99]\n",
    "print()\n",
    "print(\"Third element of the list is: \", myList[2])          # Output: Third element of the list is:  33\n",
    "\n",
    "myList[2] = 100\n",
    "print(\"Updated third element of the list is: \", myList[2])  # Output: Updated third element of the list is:  100\n",
    "\n",
    "myList[4] = \"Hello\"\n",
    "print(\"Updated fifth element of the list is: \", myList[4])  # Output: Updated fifth element of the list is:  Hello\n",
    "\n",
    "print()\n",
    "print(\"Updated list\")    # Output: [11, 22, 100, 44, 'Hello', 66, 77, 88, 99]\n",
    "print(myList)"
   ]
  },
  {
   "cell_type": "code",
   "execution_count": 13,
   "metadata": {},
   "outputs": [
    {
     "name": "stdout",
     "output_type": "stream",
     "text": [
      "[1, 2, 3, 4, 5, 6]\n",
      "[1, 2, 3, 4, 5, 6]\n"
     ]
    }
   ],
   "source": [
    "## List Concatenation\n",
    "\n",
    "# Two lists can be concatenated using + operator\n",
    "\n",
    "list1 = [1, 2, 3]\n",
    "list2 = [4, 5, 6]\n",
    "print(list1 + list2)  # Output: [1, 2, 3, 4, 5, 6]\n",
    "\n",
    "newList= list1 + list2\n",
    "print(newList)        # Output: [1, 2, 3, 4, 5, 6]\n"
   ]
  },
  {
   "cell_type": "code",
   "execution_count": 12,
   "metadata": {},
   "outputs": [
    {
     "name": "stdout",
     "output_type": "stream",
     "text": [
      "Number of elements in the list:  9\n"
     ]
    }
   ],
   "source": [
    "## Get number of elements in the list\n",
    "\n",
    "myList = [11, 22, 33, 44, 55, 66, 77, 88, 99]\n",
    "print(\"Number of elements in the list: \", len(myList))     # Output: Number of elements in the list:  9"
   ]
  },
  {
   "cell_type": "code",
   "execution_count": 15,
   "metadata": {},
   "outputs": [
    {
     "name": "stdout",
     "output_type": "stream",
     "text": [
      "[11, 22, 33, 44, 55, 66]\n"
     ]
    }
   ],
   "source": [
    "## Append new element at the end of the list\n",
    "\n",
    "myList = [11, 22, 33, 44, 55]\n",
    "myList.append(66)\n",
    "print(myList)     # Output: [11, 22, 33, 44, 55, 66]\n"
   ]
  },
  {
   "cell_type": "code",
   "execution_count": 16,
   "metadata": {},
   "outputs": [
    {
     "name": "stdout",
     "output_type": "stream",
     "text": [
      "[2, 4, 6, 8, 10, 2, 4, 6, 8, 10]\n"
     ]
    }
   ],
   "source": [
    "## Repetition of List\n",
    "\n",
    "# Elements of a list can be repeated multiple times. Below example prints the list elements twice.\n",
    "\n",
    "myList = [2, 4, 6, 8, 10]\n",
    "newList = myList * 2\n",
    "print(newList)     # Output: [2, 4, 6, 8, 10, 2, 4, 6, 8, 10]"
   ]
  },
  {
   "cell_type": "code",
   "execution_count": 10,
   "metadata": {},
   "outputs": [
    {
     "name": "stdout",
     "output_type": "stream",
     "text": [
      "[33, 44, 55]\n",
      "[44, 55, 66, 77, 88, 99]\n",
      "[11, 22, 33, 44, 55, 66, 77]\n",
      "[22, 44, 66]\n",
      "[99, 88, 77, 66, 55, 44, 33, 22, 11]\n"
     ]
    }
   ],
   "source": [
    "## Slicing a list\n",
    "# We can get a range of items through slicing the list\n",
    "# Syntax: listName[start:end:step]\n",
    "\n",
    "myList = [11, 22, 33, 44, 55, 66, 77, 88, 99]\n",
    "\n",
    "# Extract a portion of the list from index 2 to index 4 (excluding index 5)\n",
    "print(myList[2:5])   # Output: [33, 44, 55]\n",
    "\n",
    "# Extract elements starting from index 3 until the end of the list\n",
    "print(myList[3:])    # [44, 55, 66, 77, 88, 99]\n",
    "\n",
    "# Extract elements from the beginning of the list until index 6 (excluding index 7)\n",
    "slicedList = myList[:7]\n",
    "print(slicedList)\n",
    "\n",
    "# Extract a subsequence of elements starting with index 1, till index 6 (excluding index 7) with a step of 2\n",
    "print(myList[1:7:2]) # Output: [22, 44, 66]\n",
    "\n",
    "# Reverse the list using a negative step\n",
    "print(myList[::-1])  # Output: [99, 88, 77, 66, 55, 44, 33, 22, 11]\n",
    "\n"
   ]
  },
  {
   "cell_type": "code",
   "execution_count": 11,
   "metadata": {},
   "outputs": [
    {
     "name": "stdout",
     "output_type": "stream",
     "text": [
      "[2, 'aaple', 4, 6, 8, 10]\n"
     ]
    }
   ],
   "source": [
    "## Insert an element at the specific index\n",
    "# Syntax: myList.insert(index, element)\n",
    "\n",
    "myList = [2, 4, 6, 8, 10]\n",
    "myList.insert(1, \"aaple\")\n",
    "print(myList)    # Output: [2, 'aaple', 4, 6, 8, 10]\n"
   ]
  },
  {
   "cell_type": "code",
   "execution_count": 3,
   "metadata": {},
   "outputs": [
    {
     "name": "stdout",
     "output_type": "stream",
     "text": [
      "None\n",
      "[2, 4, 6, 8, 10]\n",
      "10\n",
      "[2, 'apple', 4, 6, 8]\n",
      "apple\n",
      "[2, 4, 6, 8]\n"
     ]
    }
   ],
   "source": [
    "## Remove elements from list\n",
    "# remove method removes first occurrence of the element. This method does not return anything\n",
    "\n",
    "myList = [2, \"apple\", 4, 6, 8, 10]\n",
    "removedElement = myList.remove(\"apple\")\n",
    "print(removedElement)   # Output: None    \n",
    "print(myList)           # Output: [2, 4, 6, 8, 10]\n",
    "\n",
    "myList = [2, \"apple\", 4, 6, 8, 10]\n",
    "removedElement = myList.pop()     # removes last element from the list\n",
    "print(removedElement)             # Output: 10\n",
    "print(myList)                     # Output: [2, 'apple', 4, 6, 8]\n",
    "\n",
    "removedElement = myList.pop(1)    # Removes element from a specific index\n",
    "print(removedElement)             # Output: apple\n",
    "print(myList)                     # Output: [2, 4, 6, 8]\n"
   ]
  },
  {
   "cell_type": "code",
   "execution_count": 9,
   "metadata": {},
   "outputs": [
    {
     "name": "stdout",
     "output_type": "stream",
     "text": [
      "None\n",
      "[22, 23, 34, 65, 76, 89]\n",
      "[22, 23, 34, 65, 76, 89]\n",
      "[89, 76, 65, 34, 23, 22]\n",
      "[22, 23, 34, 65, 76, 89]\n",
      "[76, 23, 89, 22, 65, 34]\n"
     ]
    }
   ],
   "source": [
    "## Sort the list\n",
    "# By default, sort() function sorts the list in Ascending order.\n",
    "# set reverse parameter to to True to sort it in descending order\n",
    "# set reverse parameter to to False to sort it in descending order\n",
    "# sort() function modifies the original list\n",
    "\n",
    "myList = [76, 23, 89, 22, 65, 34]\n",
    "sortedList = myList.sort()\n",
    "print(sortedList)                   # sort() function just sorts the list and returns nothing\n",
    "print(myList)                       # Output: [22, 23, 34, 65, 76, 89]\n",
    "\n",
    "myList = [76, 23, 89, 22, 65, 34]\n",
    "myList.sort(reverse=False)\n",
    "print(myList)                       # Output: [22, 23, 34, 65, 76, 89]\n",
    "\n",
    "myList.sort(reverse=True)\n",
    "print(myList)                       # Output: [89, 76, 65, 34, 23, 22]\n",
    "\n",
    "# sorted function returns the sorted list. It will not modify the original list\n",
    "myList = [76, 23, 89, 22, 65, 34]\n",
    "sortedList = sorted(myList, reverse=False)   \n",
    "print(sortedList)                   # Output: [22, 23, 34, 65, 76, 89]\n",
    "print(myList)                       # Output: [76, 23, 89, 22, 65, 34]"
   ]
  },
  {
   "cell_type": "code",
   "execution_count": 12,
   "metadata": {},
   "outputs": [
    {
     "name": "stdout",
     "output_type": "stream",
     "text": [
      "True\n",
      "False\n",
      "False\n"
     ]
    }
   ],
   "source": [
    "## Check if an element is part of a list\n",
    "\n",
    "myList = [2, \"apple\", 4, 6, 8, 10]\n",
    "isElementInList = \"apple\" in myList\n",
    "print(isElementInList)                # Output: True\n",
    "\n",
    "isElementInList = \"apple \" in myList    \n",
    "print(isElementInList)                # Output: False\n",
    "\n",
    "isElementInList = \"banana\" in myList\n",
    "print(isElementInList)                # Output: False\n"
   ]
  }
 ],
 "metadata": {
  "kernelspec": {
   "display_name": "Python 3",
   "language": "python",
   "name": "python3"
  },
  "language_info": {
   "codemirror_mode": {
    "name": "ipython",
    "version": 3
   },
   "file_extension": ".py",
   "mimetype": "text/x-python",
   "name": "python",
   "nbconvert_exporter": "python",
   "pygments_lexer": "ipython3",
   "version": "3.11.0"
  },
  "orig_nbformat": 4
 },
 "nbformat": 4,
 "nbformat_minor": 2
}
