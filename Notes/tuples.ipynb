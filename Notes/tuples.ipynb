{
 "cells": [
  {
   "attachments": {},
   "cell_type": "markdown",
   "metadata": {},
   "source": [
    "## Tuples in Python"
   ]
  },
  {
   "attachments": {},
   "cell_type": "markdown",
   "metadata": {},
   "source": [
    "Tuples are an important data structure in Python that allow you to store and manipulate collections of items.\n",
    "\n",
    "1. A tuple is an ordered collection of elements, enclosed within parentheses () or created without any delimiters.\n",
    "\n",
    "2. Tuples are similar to lists, but unlike lists, tuples are immutable, meaning their elements cannot be modified once defined. \n",
    "\n",
    "3. Tuples are commonly used to represent a group of related values as a single entity.\n",
    "\n",
    "4. Tuples can be created using parentheses or by separating the elements with commas.\n",
    "\n",
    "5. You can access elements in a tuple using indexing, similar to lists. The indexing starts from 0 for the first element.\n",
    "\n",
    "6. We can perform various operations on list like combining 2 or more tuples using + operator, creating new tuple by repeating elements using * operator, extracting a portion of tuple using the slicing syntax, fining number of elements in tuple using len() function, checking whether an element exist in tuple or not using in operator etc.\n",
    "\n",
    "7. They are used when you don't wants the values to get changed or reassigned at any stage. These are used mostly for Constant variables. They are commonly used in scenarios where immutability, order, and integrity are desired."
   ]
  },
  {
   "cell_type": "code",
   "execution_count": 28,
   "metadata": {},
   "outputs": [
    {
     "name": "stdout",
     "output_type": "stream",
     "text": [
      "<class 'tuple'>\n",
      "(1, 2, 3)\n",
      "(4, 5, 6)\n",
      "()\n"
     ]
    }
   ],
   "source": [
    "## Create Tuples\n",
    "myTuple = (1, 2, 3)\n",
    "anotherTuple = 4, 5, 6\n",
    "emptyTuple = ()\n",
    "\n",
    "print(type(myTuple))  # Output: <class 'tuple'>\n",
    "\n",
    "print(myTuple)        # Output: (1, 2, 3)\n",
    "print(anotherTuple)   # Output: (4, 5, 6)\n",
    "print(emptyTuple)     # Output: ()"
   ]
  },
  {
   "cell_type": "code",
   "execution_count": 14,
   "metadata": {},
   "outputs": [
    {
     "name": "stdout",
     "output_type": "stream",
     "text": [
      "First element of the tuple is:  apple\n",
      "Second element of the tuple is:  banana\n",
      "Last element of the tuple is:  pear\n",
      "Last element of the tuple is:  pear\n",
      "Second last element of the tuple is:  cherry\n"
     ]
    },
    {
     "ename": "IndexError",
     "evalue": "tuple index out of range",
     "output_type": "error",
     "traceback": [
      "\u001b[1;31m---------------------------------------------------------------------------\u001b[0m",
      "\u001b[1;31mIndexError\u001b[0m                                Traceback (most recent call last)",
      "Cell \u001b[1;32mIn[14], line 15\u001b[0m\n\u001b[0;32m     12\u001b[0m \u001b[39mprint\u001b[39m(\u001b[39m\"\u001b[39m\u001b[39mSecond last element of the tuple is: \u001b[39m\u001b[39m\"\u001b[39m, myTuple[\u001b[39m-\u001b[39m\u001b[39m2\u001b[39m])\n\u001b[0;32m     14\u001b[0m \u001b[39m# If the index is out of range, you will get \"tuple index out of range\" error\u001b[39;00m\n\u001b[1;32m---> 15\u001b[0m \u001b[39mprint\u001b[39m(\u001b[39m\"\u001b[39m\u001b[39mTenth element of the tuple is: \u001b[39m\u001b[39m\"\u001b[39m, myTuple[\u001b[39m9\u001b[39;49m])\n",
      "\u001b[1;31mIndexError\u001b[0m: tuple index out of range"
     ]
    }
   ],
   "source": [
    "## Access an element of tuple\n",
    "myTuple = (\"apple\", \"banana\", \"orange\", \"grapes\", \"cherry\", \"pear\")\n",
    "print(\"First element of the tuple is: \", myTuple[0]) # Output: First element of the tuple is:  apple\n",
    "print(\"Second element of the tuple is: \", myTuple[1]) # Output: Second element of the tuple is:  banana\n",
    "\n",
    "# Get the last element of tuple if the is not known\n",
    "print(\"Last element of the tuple is: \", myTuple[len(myTuple)-1]) # Output: Last element of the tuple is:  pear\n",
    "print(\"Last element of the tuple is: \", myTuple[-1]) # output: Last element of the tuple is:  pear\n",
    "\n",
    "# Get the second last element of the tuple\n",
    "print(\"Second last element of the tuple is: \", myTuple[-2]) # Output: Second last element of the tuple is:  cherry\n",
    "\n",
    "# If the index is out of range, you will get \"tuple index out of range\" error\n",
    "print(\"Tenth element of the tuple is: \", myTuple[9]) # Error: IndexError: tuple index out of range"
   ]
  },
  {
   "cell_type": "code",
   "execution_count": 4,
   "metadata": {},
   "outputs": [
    {
     "name": "stdout",
     "output_type": "stream",
     "text": [
      "Total emenets in tuple are: 6\n"
     ]
    }
   ],
   "source": [
    "# Check Length of tuple\n",
    "\n",
    "myTuple = (1,4,5,7,67,\"apple\")\n",
    "print(\"Total elements in tuple are: \" + str(len(myTuple))) \n",
    "\n",
    "# Output: Total elements in tuple are: 6"
   ]
  },
  {
   "cell_type": "code",
   "execution_count": 32,
   "metadata": {},
   "outputs": [
    {
     "name": "stdout",
     "output_type": "stream",
     "text": [
      "Total count of a in tuple:  4\n",
      "Total count of b in tuple:  2\n",
      "Total count of 1 in tuple:  5\n"
     ]
    }
   ],
   "source": [
    "# Count the occurrence of an element in the tuple\n",
    "myTuple = ('a', 'b', 'a', 'b', 'a', 'a', 'c', 1, 1, 1, 1, 3, 1, 4)\n",
    "print('Total count of a in tuple: ', myTuple.count('a')) # Output: Total count of a in tuple:  4\n",
    "print('Total count of b in tuple: ', myTuple.count('b')) # Output: Total count of b in tuple:  2\n",
    "print('Total count of 1 in tuple: ', myTuple.count(1))   # Output: Total count of 1 in tuple:  5"
   ]
  },
  {
   "cell_type": "code",
   "execution_count": 33,
   "metadata": {},
   "outputs": [
    {
     "name": "stdout",
     "output_type": "stream",
     "text": [
      "Index of first occurrence of a:  0\n",
      "Index of first occurrence of b:  1\n",
      "Index of first occurrence of c:  6\n"
     ]
    }
   ],
   "source": [
    "# Get the index of the first occurrence of the element\n",
    "myTuple = ('a', 'b', 'a', 'b', 'a', 'a', 'c')\n",
    "print('Index of first occurrence of a: ', myTuple.index('a')) # Output: Index of first occurrence of a:  0\n",
    "print('Index of first occurrence of b: ', myTuple.index('b')) # output: Index of first occurrence of b:  1\n",
    "print('Index of first occurrence of c: ', myTuple.index('c')) # Output: Index of first occurrence of c:  6"
   ]
  },
  {
   "cell_type": "code",
   "execution_count": 23,
   "metadata": {},
   "outputs": [
    {
     "name": "stdout",
     "output_type": "stream",
     "text": [
      "('a', 'b', 'c')\n",
      "a\n",
      "a b c\n",
      "b\n"
     ]
    }
   ],
   "source": [
    "# Tuple packaging and unpackaging\n",
    "# Tuple packing enables the grouping of multiple values into a single tuple. \n",
    "# Conversely, tuple unpacking allows you to distribute the values from a tuple to separate variables.\n",
    "\n",
    "# Tuple packing\n",
    "tuple1 = 'a', 'b', 'c'\n",
    "print(tuple1)      # Output: ('a', 'b', 'c')\n",
    "print(tuple1[0])   # Output:  a \n",
    "\n",
    "# Tuple unpacking\n",
    "x, y, z = tuple1\n",
    "print(x, y, z)     # Output: a b c\n",
    "print(y)           # Output: b\n"
   ]
  },
  {
   "cell_type": "markdown",
   "metadata": {},
   "source": [
    "### Concatenation in Tuple\n",
    "1. Concatenation in tuples refers to the process of combining two or more tuples to create a new tuple containing all the elements from the original tuples. \n",
    "2. Since tuples are immutable, concatenation does not modify the original tuples, but rather creates a new tuple with the combined elements.\n",
    "3. Tuples can be combined using + operator to combine two or more tuples"
   ]
  },
  {
   "cell_type": "code",
   "execution_count": 25,
   "metadata": {},
   "outputs": [
    {
     "name": "stdout",
     "output_type": "stream",
     "text": [
      "(1, 2, 3, 4, 5, 6)\n",
      "\n",
      "('a', 'b', 'c', 'd', 'p', 'q', 'r')\n"
     ]
    }
   ],
   "source": [
    "# Concatenation in Tuple\n",
    "\n",
    "int_tuple1 = (1, 2, 3)\n",
    "int_tuple2 = (4, 5, 6)\n",
    "\n",
    "concatenated_tuple = int_tuple1 + int_tuple2\n",
    "print(concatenated_tuple)  # Output: (1, 2, 3, 4, 5, 6)\n",
    "\n",
    "print()\n",
    "\n",
    "string_Tuple1 = ('a', 'b', 'c', 'd')\n",
    "string_Tuple2 = ('p', 'q', 'r')\n",
    "concatenated_tuple = string_Tuple1 + string_Tuple2\n",
    "print(concatenated_tuple)  # Output: ('a', 'b', 'c', 'd', 'p', 'q', 'r')"
   ]
  },
  {
   "cell_type": "markdown",
   "metadata": {},
   "source": [
    "### Repetition in Tuples\n",
    "1. Repetition in tuples refers to the process of creating a new tuple by repeating its elements a specified number of times\n",
    "2. This operation does not modify the original tuple; instead, it generates a new tuple with the repeated elements.\n",
    "3. To perform repetition with tuples, you can use the * operator followed by an integer value.\n",
    "4. The integer represents the number of times the tuple's elements should be repeated."
   ]
  },
  {
   "cell_type": "code",
   "execution_count": 27,
   "metadata": {},
   "outputs": [
    {
     "name": "stdout",
     "output_type": "stream",
     "text": [
      "(1, 2, 3, 1, 2, 3, 1, 2, 3)\n",
      "('apple', 'banana', 'cherry', 'apple', 'banana', 'cherry')\n"
     ]
    }
   ],
   "source": [
    "# Repetition in Tuples\n",
    "my_tuple = (1, 2, 3)\n",
    "\n",
    "repeated_tuple = my_tuple * 3\n",
    "print(repeated_tuple)  # Output: (1, 2, 3, 1, 2, 3, 1, 2, 3)\n",
    "\n",
    "str_tuple = ('apple', 'banana', 'cherry')\n",
    "repeated_tuple = str_tuple * 2\n",
    "print(repeated_tuple)  # Output: ('apple', 'banana', 'cherry', 'apple', 'banana', 'cherry')\n"
   ]
  },
  {
   "cell_type": "markdown",
   "metadata": {},
   "source": [
    "### Slilcing in Tuples\n",
    "1. Slicing in tuples refers to the process of extracting a portion of a tuple, creating a new tuple containing the selected elements.\n",
    "2. Tuples support slicing using the same syntax as lists and strings.\n",
    "3. Slicing syntax: \"tuple[start:stop:step]\"\n",
    "    1. start: The index where the slice starts (inclusive). If omitted, it starts from the beginning of the tuple (index 0).\n",
    "    2. stop: The index where the slice ends (exclusive). If omitted, it goes until the end of the tuple (the last element).\n",
    "    3. step: The step size to specify how many elements to skip between each element in the slice. If omitted, the default step is 1.\n"
   ]
  },
  {
   "cell_type": "code",
   "execution_count": 34,
   "metadata": {},
   "outputs": [
    {
     "name": "stdout",
     "output_type": "stream",
     "text": [
      "(33, 44, 55)\n",
      "(11, 22, 33, 44, 55, 66, 77)\n",
      "(44, 55, 66, 77, 88, 99, 100)\n",
      "(11, 33, 55, 77, 99)\n",
      "(100, 99, 88, 77, 66, 55, 44, 33, 22, 11)\n"
     ]
    }
   ],
   "source": [
    "myTuple = (11, 22, 33, 44, 55, 66, 77, 88, 99, 100)\n",
    "\n",
    "# Slicing from index 2 to index 5 (exclusive)\n",
    "slice1 = myTuple[2:5]\n",
    "print(slice1)  # Output: (33, 44, 55)\n",
    "\n",
    "# Slicing from the beginning to index 7 (exclusive)\n",
    "slice2 = myTuple[:7]\n",
    "print(slice2)  # Output: (11, 22, 33, 44, 55, 66, 77)\n",
    "\n",
    "# Slicing from index 3 to the end\n",
    "slice3 = myTuple[3:]\n",
    "print(slice3)  # Output: (44, 55, 66, 77, 88, 99, 100)\n",
    "\n",
    "# Slicing with a step of 2 (skipping every other element)\n",
    "slice4 = myTuple[::2]\n",
    "print(slice4)  # Output: (11, 33, 55, 77, 99)\n",
    "\n",
    "# Reverse the tuple using a negative step\n",
    "reverse_tuple = myTuple[::-1]\n",
    "print(reverse_tuple)  # Output: (100, 99, 88, 77, 66, 55, 44, 33, 22, 11)\n"
   ]
  },
  {
   "cell_type": "markdown",
   "metadata": {},
   "source": [
    "### Membership in Tuple\n",
    "1. Membership in tuples refers to checking whether an element is present in a tuple.\n",
    "2. You can use the in keyword to perform this check.\n",
    "3. The in keyword returns a boolean value (True or False) based on whether the element exists in the tuple or not.\n",
    "4. It is commonly used in conditional statements or loops to perform different actions based on the presence or absence of an element in the tuple."
   ]
  },
  {
   "cell_type": "code",
   "execution_count": 35,
   "metadata": {},
   "outputs": [
    {
     "name": "stdout",
     "output_type": "stream",
     "text": [
      "True\n",
      "False\n"
     ]
    }
   ],
   "source": [
    "myTuple = (1, 2, 3, 4, 5)\n",
    "\n",
    "# Check if elements are present in the tuple\n",
    "print(3 in myTuple)  # Output: True\n",
    "print(6 in myTuple)  # Output: False\n"
   ]
  }
 ],
 "metadata": {
  "kernelspec": {
   "display_name": "Python 3",
   "language": "python",
   "name": "python3"
  },
  "language_info": {
   "codemirror_mode": {
    "name": "ipython",
    "version": 3
   },
   "file_extension": ".py",
   "mimetype": "text/x-python",
   "name": "python",
   "nbconvert_exporter": "python",
   "pygments_lexer": "ipython3",
   "version": "3.11.4"
  },
  "orig_nbformat": 4
 },
 "nbformat": 4,
 "nbformat_minor": 2
}
