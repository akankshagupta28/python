{
 "cells": [
  {
   "attachments": {},
   "cell_type": "markdown",
   "metadata": {},
   "source": [
    "# Dictionaries in Python"
   ]
  },
  {
   "attachments": {},
   "cell_type": "markdown",
   "metadata": {},
   "source": [
    "1. A Dictionary is an unordered collection of key-value pairs, enclosed in curly braces ({}) and separated by commas. The key is used to access the value in the dictionary\n",
    "\n",
    "2. Each key is unique within the dictionary and is associated with a corresponding value. \n",
    "\n",
    "3. The keys can be of any data type such as string, number or tuples, while the values can be of any data type including numbers, string, lists, dictionaries or functions.\n",
    "\n",
    "4. Dictionaries are mutable, meaning you can add, modify, or remove key-value pairs after the dictionary is created.\n",
    "\n",
    "5. Dictionaries do not maintain any specific order of the key-value pairs. The order in which the key-value pairs are stored may not match the order in which they were added.\n",
    "\n",
    "6. Dictionary keys must be immutable objects, such as strings, numbers, or tuples. This requirement ensures that the keys can be used as unique identifiers and remain consistent."
   ]
  },
  {
   "attachments": {},
   "cell_type": "markdown",
   "metadata": {},
   "source": [
    "In the below code snippet, we create a dictionary representing an employee, with keys such as “empID”, “empName”, and “skill” associated with their respective values. "
   ]
  },
  {
   "cell_type": "code",
   "execution_count": 1,
   "metadata": {},
   "outputs": [
    {
     "name": "stdout",
     "output_type": "stream",
     "text": [
      "{'empID': 'Emp1001', 'empName': 'Akanksha', 'skill': 'Python'}\n"
     ]
    }
   ],
   "source": [
    "## Create Dictionary\n",
    "\n",
    "employee = {\"empID\": \"Emp1001\", \"empName\": \"Akanksha\", \"skill\": \"Python\"}\n",
    "print(employee)   # Output: {'empID': 'Emp1001', 'empName': 'Akanksha', 'skill': 'Python'}"
   ]
  },
  {
   "cell_type": "code",
   "execution_count": 29,
   "metadata": {},
   "outputs": [
    {
     "name": "stdout",
     "output_type": "stream",
     "text": [
      "Employee Name: Akanksha\n",
      "Employee Name:  Akanksha\n",
      "Employee Name:  None\n"
     ]
    }
   ],
   "source": [
    "## Access values from Dictionary\n",
    "# To access the values of specific keys, we can use the key inside square brackets ([]).\n",
    "# If the key is not present in the dictionary, it will raise a `KeyError`\n",
    "# you can use the `get()` method, which returns `None` or a default value if the key is not found.\n",
    "\n",
    "print(\"Employee Name: \" + employee[\"empName\"])       # Output: Employee Name: Akanksha\n",
    "print(\"Employee Name: \" , employee.get(\"empName\"))   # Output: Employee Name:  Akanksha\n",
    "print(\"Employee Name: \" , employee.get(\"Name\"))      # Output: Employee Name:  None\n"
   ]
  },
  {
   "attachments": {},
   "cell_type": "markdown",
   "metadata": {},
   "source": [
    "Dictionaries are mutable, meaning you can modify their values or add new key-value pairs even after creation. To modify an existing value, simply assign a new value to the desired key"
   ]
  },
  {
   "cell_type": "code",
   "execution_count": 13,
   "metadata": {},
   "outputs": [
    {
     "name": "stdout",
     "output_type": "stream",
     "text": [
      "Old Employee Skill: Python\n",
      "New Employee Skill: AI\n",
      "\n",
      "{'empID': 'Emp1001', 'empName': 'Akanksha', 'skill': 'Python', 'location': 'Delhi', 'designation': 'Architect', 'country': 'India'}\n",
      "{'empID': 'Architect', 'empName': 'Akanksha', 'skill': 'Python', 'location': 'Delhi', 'country': 'India'}\n"
     ]
    }
   ],
   "source": [
    "## Update Dictionary Elements\n",
    "\n",
    "employee = {\"empID\": \"Emp1001\", \"empName\": \"Akanksha\", \"skill\": \"Python\"}\n",
    "print(\"Old Employee Skill: \" + employee[\"skill\"])  # Output: Old Employee Skill: Python\n",
    "employee[\"skill\"]=\"AI\"\n",
    "print(\"New Employee Skill: \" + employee[\"skill\"])  # Output: New Employee Skill: AI\n",
    "print()\n",
    "\n",
    "## use update() method\n",
    "employee = {\"empID\": \"Emp1001\", \"empName\": \"Akanksha\", \"skill\": \"Python\", \"location\": \"Delhi\"}\n",
    "otherDetails = {\"designation\": \"Architect\", \"country\": \"India\"}\n",
    "employee.update(otherDetails)\n",
    "print(employee)    \n",
    "# Output: {'empID': 'Emp1001', 'empName': 'Akanksha', 'skill': 'Python', 'location': 'Delhi', 'designation': 'Architect', 'country': 'India'}\n",
    "\n",
    "employee = {\"empID\": \"Emp1001\", \"empName\": \"Akanksha\", \"skill\": \"Python\", \"location\": \"Delhi\"}\n",
    "otherDetails = {\"empID\": \"Architect\", \"country\": \"India\"}\n",
    "employee.update(otherDetails)\n",
    "print(employee)\n",
    "# Output: {'empID': 'Architect', 'empName': 'Akanksha', 'skill': 'Python', 'location': 'Delhi', 'country': 'India'}"
   ]
  },
  {
   "cell_type": "code",
   "execution_count": 4,
   "metadata": {},
   "outputs": [
    {
     "name": "stdout",
     "output_type": "stream",
     "text": [
      "{'empID': 'Emp1001', 'empName': 'Akanksha', 'skill': 'Python'}\n",
      "{'empID': 'Emp1001', 'empName': 'Akanksha', 'skill': 'Python', 'location': 'Delhi'}\n"
     ]
    }
   ],
   "source": [
    "## Add new key-value pair in Dictionary\n",
    "\n",
    "employee = {\"empID\": \"Emp1001\", \"empName\": \"Akanksha\", \"skill\": \"Python\"}\n",
    "print(employee)    # Output: {'empID': 'Emp1001', 'empName': 'Akanksha', 'skill': 'Python'}\n",
    "employee[\"location\"] = \"Delhi\"\n",
    "print(employee)    # Output: {'empID': 'Emp1001', 'empName': 'Akanksha', 'skill': 'Python', 'location': 'Delhi'}"
   ]
  },
  {
   "cell_type": "code",
   "execution_count": 10,
   "metadata": {},
   "outputs": [
    {
     "name": "stdout",
     "output_type": "stream",
     "text": [
      "Original 'employee' dictionary\n",
      "{'empID': 'Emp1001', 'empName': 'Akanksha', 'skill': 'Python', 'location': 'Delhi'}\n",
      "\n",
      "Modified 'employee' dictionary after deleting 'empID' key using 'del' function\n",
      "{'empName': 'Akanksha', 'skill': 'Python', 'location': 'Delhi'}\n",
      "Original 'employee' dictionary\n",
      "{'empID': 'Emp1001', 'empName': 'Akanksha', 'skill': 'Python', 'location': 'Delhi'}\n",
      "Modified 'employee' dictionary\n",
      "{'empID': 'Emp1001', 'empName': 'Akanksha', 'skill': 'Python'}\n",
      "Removed employee location: Delhi\n",
      "\n",
      "Original 'employee' dictionary\n",
      "{'empID': 'Emp1001', 'empName': 'Akanksha', 'skill': 'Python', 'location': 'Delhi'}\n",
      "Modified 'employee' dictionary\n",
      "{'empID': 'Emp1001', 'empName': 'Akanksha', 'skill': 'Python'}\n",
      "Removed key: location\n",
      "Removed value: Delhi\n",
      "\n",
      "All key-value pairs in dictionary\n",
      "{'empID': 'Emp1001', 'empName': 'Akanksha', 'skill': 'Python', 'location': 'Delhi'}\n",
      "Empty Dictionary\n",
      "{}\n"
     ]
    }
   ],
   "source": [
    "### Removing Dictionary Elements\n",
    "\n",
    "## Using the del Statement\n",
    "# The del statement allows you to delete a specific key-value pair from a dictionary. \n",
    "# You can also pass multiple keys in del statement. For example, del myDict[“key1”, “key2”]\n",
    "\n",
    "employee = {\"empID\": \"Emp1001\", \"empName\": \"Akanksha\", \"skill\": \"Python\", \"location\": \"Delhi\"}\n",
    "print(\"Original 'employee' dictionary\")\n",
    "print(employee)    # Output: {'empID': 'Emp1001', 'empName': 'Akanksha', 'skill': 'Python', 'location': 'Delhi'}\n",
    "\n",
    "print(\"\\nModified 'employee' dictionary after deleting 'empID' key using 'del' function\")\n",
    "del employee[\"empID\"]\n",
    "print(employee)    # Output: {'empName': 'Akanksha', 'skill': 'Python', 'location': 'Delhi'}\n",
    "\n",
    "\n",
    "## Using the pop() Method\n",
    "# The pop() method removes and returns the value associated with a specified key. \n",
    "# You can also pass multiple keys in pop() Method. For example, myDict.pop(“key1”, “key2”)\n",
    "\n",
    "employee = {\"empID\": \"Emp1001\", \"empName\": \"Akanksha\", \"skill\": \"Python\", \"location\": \"Delhi\"}\n",
    "print(\"Original 'employee' dictionary\")\n",
    "print(employee)    # Output: {'empID': 'Emp1001', 'empName': 'Akanksha', 'skill': 'Python', 'location': 'Delhi'}\n",
    "location = employee.pop(\"location\")\n",
    "print(\"Modified 'employee' dictionary\")\n",
    "print(employee)    # Output: {'empID': 'Emp1001', 'empName': 'Akanksha', 'skill': 'Python'} \n",
    "print(\"Removed employee location: \" + location)  # Output: Removed employee location: Delhi\n",
    "print()\n",
    "\n",
    "\n",
    "## Using the popitem() Method\n",
    "# The popitem() method removes and returns the last inserted key-value pair from the dictionary as a tuple\n",
    "\n",
    "employee = {\"empID\": \"Emp1001\", \"empName\": \"Akanksha\", \"skill\": \"Python\", \"location\": \"Delhi\"}\n",
    "print(\"Original 'employee' dictionary\")\n",
    "print(employee)     # Output: {'empID': 'Emp1001', 'empName': 'Akanksha', 'skill': 'Python', 'location': 'Delhi'}\n",
    "lastKey, lastValue = employee.popitem()\n",
    "print(\"Modified 'employee' dictionary\")\n",
    "print(employee)     # Output: {'empID': 'Emp1001', 'empName': 'Akanksha', 'skill': 'Python'} \n",
    "print(\"Removed key: \" + lastKey)      # Output: Removed key: location\n",
    "print(\"Removed value: \" + lastValue)  # Output: Removed value: Delhi\n",
    "print()\n",
    "\n",
    "## Using the clear() Method\n",
    "# The clear() method removes all key-value pairs from the dictionary, making it empty.\n",
    "employee = {\"empID\": \"Emp1001\", \"empName\": \"Akanksha\", \"skill\": \"Python\", \"location\": \"Delhi\"}\n",
    "print(\"All key-value pairs in dictionary\")\n",
    "print(employee)      # Output: {'empID': 'Emp1001', 'empName': 'Akanksha', 'skill': 'Python', 'location': 'Delhi'}\n",
    "employee.clear()    \n",
    "print(\"Empty Dictionary\")\n",
    "print(employee)      # Output: {}"
   ]
  },
  {
   "cell_type": "code",
   "execution_count": 11,
   "metadata": {},
   "outputs": [
    {
     "name": "stdout",
     "output_type": "stream",
     "text": [
      "Printing all Keys:\n",
      "empID\n",
      "empName\n",
      "skill\n",
      "location\n",
      "\n",
      "Printing all Values:\n",
      "Emp1001\n",
      "Akanksha\n",
      "Python\n",
      "Delhi\n",
      "\n",
      "Printing all Key-Value pairs:\n",
      "empID : Emp1001\n",
      "empName : Akanksha\n",
      "skill : Python\n",
      "location : Delhi\n"
     ]
    }
   ],
   "source": [
    "## Iterating Over Dictionary Elements\n",
    "# You can iterate over the keys, values, or key-value pairs of a dictionary using various methods. \n",
    "# For example, you can use a for loop to iterate over the keys.\n",
    "# key and value are variable names. You can use any valid variable name that is required\n",
    "\n",
    "employee = {\"empID\": \"Emp1001\", \"empName\": \"Akanksha\", \"skill\": \"Python\", \"location\": \"Delhi\"}\n",
    "print(\"Printing all Keys:\")\n",
    "for key in employee:\n",
    "    print(key)               \n",
    "\n",
    "print(\"\\nPrinting all Values:\")\n",
    "for value in employee.values():\n",
    "    print(value)\n",
    "    \n",
    "print(\"\\nPrinting all Key-Value pairs:\")\n",
    "for key, value in employee.items():\n",
    "        print(key, \":\", value)"
   ]
  },
  {
   "attachments": {},
   "cell_type": "markdown",
   "metadata": {},
   "source": [
    "## Dictionary Comprehension\n",
    "We use Dictionary Comprehension in Python to get specific key-value pairs from a dictionary based on a condition.\n",
    "\n",
    "Using Dictionary Comprehension is a powerful technique in Python that allows you to create a new dictionary by filtering or transforming the elements from an existing dictionary.\n",
    "\n",
    "Let’s say we want to create a new dictionary that includes only the key-value pairs where the key starts with the letter ‘e’ from the employee dictionary. We can achieve this using dictionary comprehension.\n",
    "\n",
    "In this example, the dictionary comprehension syntax starts with curly braces {} and consists of a key-value pair expression (key: value) followed by a loop and an optional conditional statement.\n",
    "\n",
    "Below is the explanation of the code block:\n",
    "\n",
    "1. **key: value**: This expression defines the key-value pair for the new dictionary. It uses the same key and value from the original employee dictionary.\n",
    "\n",
    "2. **for key, value in employee.items()**: This loop iterates over each key-value pair in the employee dictionary.\n",
    "\n",
    "3. **if key.startswith('e')**: This conditional statement filters the key-value pairs based on the condition that the key starts with the letter ‘e’.\n",
    "\n",
    "4. **if isinstance(value, str)**: This conditional statement filters the key-value pairs based on the condition that value is string\n",
    "\n",
    "**NOTE**: key and value are variable names, and you can use any other valid variable names in their place. \n",
    "**filteredData = {k: v for k, v in employee.items() if k.startswith(‘e’)}** will also return the same result.\n",
    "\n",
    "### More example:\n",
    "\n",
    "1. **isinstance(value, int)**: This condition filters the key-value pairs based on the condition that the value is an integer.\n",
    "2. **len(value) > 5**: This condition filters the key-value pairs based on the condition that the length of value is greater than 5\n",
    "3. **isinstance(value, (str, int))**: his condition filters the key-value pairs based on the condition that the value is an integer or string"
   ]
  },
  {
   "cell_type": "code",
   "execution_count": 14,
   "metadata": {},
   "outputs": [
    {
     "name": "stdout",
     "output_type": "stream",
     "text": [
      "Uisng Dictionary Comprehension to filter key-value pairs from a dictionary based on a condition\n",
      "All key-value pairs in dictionary\n",
      "{'empID': 'Emp1001', 'empName': 'Akanksha', 'skill': 'Python', 'location': 'Delhi', 'phone': 76575534}\n",
      "Filtered Dictionary\n",
      "{'empID': 'Emp1001', 'empName': 'Akanksha'}\n",
      "{'empID': 'Emp1001', 'empName': 'Akanksha', 'skill': 'Python', 'location': 'Delhi'}\n"
     ]
    }
   ],
   "source": [
    "# Uisng Dictionary Comprehension to filter key-value pairs from a dictionary based on a condition\n",
    "\n",
    "print(\"Uisng Dictionary Comprehension to filter key-value pairs from a dictionary based on a condition\")\n",
    "employee = {\"empID\": \"Emp1001\", \"empName\": \"Akanksha\", \"skill\": \"Python\", \"location\": \"Delhi\", \"phone\": 76575534}\n",
    "print(\"All key-value pairs in dictionary\")\n",
    "print(employee)\n",
    "# Output: {'empID': 'Emp1001', 'empName': 'Akanksha', 'skill': 'Python', 'location': 'Delhi', 'phone': 76575534}\n",
    "\n",
    "filteredData = {key: value for key, value in employee.items() if key.startswith('e')}\n",
    "print(\"Filtered Dictionary\")\n",
    "print(filteredData)\n",
    "# Output: {'empID': 'Emp1001', 'empName': 'Akanksha'}\n",
    "\n",
    "filteredData = {key: value for key, value in employee.items() if isinstance(value, str)}\n",
    "print(filteredData)\n",
    "# Output: {'empID': 'Emp1001', 'empName': 'Akanksha', 'skill': 'Python', 'location': 'Delhi'}"
   ]
  },
  {
   "cell_type": "code",
   "execution_count": 17,
   "metadata": {},
   "outputs": [
    {
     "name": "stdout",
     "output_type": "stream",
     "text": [
      "empID key exists in employee Dictionary\n",
      "address key does not exists in employee Dictionary\n"
     ]
    }
   ],
   "source": [
    "## Checking Dictionary Membership\n",
    "# in and not in operators can be used to check if a key exists in a dictionary\n",
    "\n",
    "employee = {\"empID\": \"Emp1001\", \"empName\": \"Akanksha\", \"skill\": \"Python\", \"location\": \"Delhi\", \"phone\": 76575534}\n",
    "if \"empID\" in employee:\n",
    "    print(\"empID key exists in employee Dictionary\")\n",
    "\n",
    "if \"address\" not in employee:\n",
    "    print(\"address key does not exists in employee Dictionary\")"
   ]
  },
  {
   "cell_type": "code",
   "execution_count": 19,
   "metadata": {},
   "outputs": [
    {
     "name": "stdout",
     "output_type": "stream",
     "text": [
      "Number of key-value pairs in employee dictionary:  5\n"
     ]
    }
   ],
   "source": [
    "## Dictionary Length\n",
    "# len(): Returns the number of key-value pairs in the dictionary\n",
    "\n",
    "employee = {\"empID\": \"Emp1001\", \"empName\": \"Akanksha\", \"skill\": \"Python\", \"location\": \"Delhi\", \"phone\": 76575534}\n",
    "dictlength = len(employee)\n",
    "print(\"Number of key-value pairs in employee dictionary: \", dictlength)\n",
    "# Output: Number of key-value pairs in employee dictionary:  5"
   ]
  },
  {
   "attachments": {},
   "cell_type": "markdown",
   "metadata": {},
   "source": [
    "### Sorting the Dictionary\n",
    "\n",
    "1. Use sorted() function to sort the dictionary. \n",
    "\n",
    "2. This does not modify the origial dictionary, but returns the sorted one.\n",
    "\n",
    "3. The key argument of the sorted() function is set to a lambda function lambda x: x[1], which specifies that the sorting should be based on the second element of each tuple (the value).\n",
    "\n",
    "4.. If you want to sort the dictionary in descending order based on values, you can pass the reverse=True argument to the sorted() function\n",
    "\n",
    "5. The sorted() function applies the sorting based on the specified key, and the result is a list of tuples sorted in ascending order based on the values. Finally, the sorted list of tuples is converted back into a dictionary using the dict() function.\n"
   ]
  },
  {
   "cell_type": "code",
   "execution_count": 26,
   "metadata": {},
   "outputs": [
    {
     "name": "stdout",
     "output_type": "stream",
     "text": [
      "{'empID': 'Emp1001', 'empName': 'Akanksha', 'location': 'Delhi', 'skill': 'Python'}\n",
      "{'skill': 'Python', 'location': 'Delhi', 'empName': 'Akanksha', 'empID': 'Emp1001'}\n",
      "{'empName': 'Akanksha', 'location': 'Delhi', 'empID': 'Emp1001', 'skill': 'Python'}\n",
      "{'skill': 'Python', 'empID': 'Emp1001', 'location': 'Delhi', 'empName': 'Akanksha'}\n"
     ]
    }
   ],
   "source": [
    "employee = {\"empID\": \"Emp1001\", \"empName\": \"Akanksha\", \"skill\": \"Python\", \"location\": \"Delhi\"}\n",
    "\n",
    "# Sort Dictionary based on Keys in Ascending Order\n",
    "sortedDict = dict(sorted(employee.items(), key=None))           \n",
    "print(sortedDict)\n",
    "# Output: {'empID': 'Emp1001', 'empName': 'Akanksha', 'location': 'Delhi', 'skill': 'Python'}\n",
    "\n",
    "# Sort Dictionary based on Keys in Descending Order\n",
    "sortedDict = dict(sorted(employee.items(), key=None, reverse=True))  \n",
    "print(sortedDict)\n",
    "# Output: {'skill': 'Python', 'location': 'Delhi', 'empName': 'Akanksha', 'empID': 'Emp1001'}\n",
    "\n",
    "# Sort Dictionary based on Values in Ascending Order\n",
    "sortedDict = dict(sorted(employee.items(), key=lambda x: x[1]))\n",
    "print(sortedDict)\n",
    "# Output: {'empName': 'Akanksha', 'location': 'Delhi', 'empID': 'Emp1001', 'skill': 'Python'}\n",
    "\n",
    "# Sort Dictionary based on Values in Descending Order\n",
    "sortedDict = dict(sorted(employee.items(), key=lambda x: x[1], reverse=True))\n",
    "print(sortedDict)\n",
    "# Output: {'skill': 'Python', 'empID': 'Emp1001', 'location': 'Delhi', 'empName': 'Akanksha'}\n"
   ]
  }
 ],
 "metadata": {
  "kernelspec": {
   "display_name": "Python 3",
   "language": "python",
   "name": "python3"
  },
  "language_info": {
   "codemirror_mode": {
    "name": "ipython",
    "version": 3
   },
   "file_extension": ".py",
   "mimetype": "text/x-python",
   "name": "python",
   "nbconvert_exporter": "python",
   "pygments_lexer": "ipython3",
   "version": "3.11.0"
  },
  "orig_nbformat": 4
 },
 "nbformat": 4,
 "nbformat_minor": 2
}
