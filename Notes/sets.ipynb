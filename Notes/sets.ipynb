{
 "cells": [
  {
   "attachments": {},
   "cell_type": "markdown",
   "metadata": {},
   "source": [
    "## Sets in Python"
   ]
  },
  {
   "attachments": {},
   "cell_type": "markdown",
   "metadata": {},
   "source": [
    "A Set is an unordered collection of unique elements in Python. It is defined by enclosing a comma-separated sequence of elements within curly braces {}.\n",
    "\n",
    "1. Sets contain unique elements only. If you enter duplicate elements, it will not give any error. It will remove the duplicate elements and return the unique ones.\n",
    "\n",
    "2. Sets are mutable. New elements can be added/removed from an existing Set. You cannot update an element in a Set.\n",
    "\n",
    "3. Elements in Set are not stored in any particular order.\n",
    "\n",
    "4. Elements of a Set should be immutable objects. Immutable objects like numbers, strings, and tuples, can be stored in Sets. Mutable objects, such as lists and dictionaries, cannot be stored in Sets.\n",
    "\n",
    "5. Like List Comprehension, Set Comprehension allows you to create Sets using a loop and conditional statements.\n",
    "\n",
    "6. Sets are used in finding unique elements, removing duplicates, counting distinct items, filtering out duplicates, or getting common elements between multiple sets."
   ]
  },
  {
   "cell_type": "code",
   "execution_count": 3,
   "metadata": {},
   "outputs": [
    {
     "name": "stdout",
     "output_type": "stream",
     "text": [
      "{1, 2, 3, 4, 5}\n",
      "{1, 2, 3, 4, 5}\n"
     ]
    }
   ],
   "source": [
    "## Create a Set\n",
    "# Sets are created using curly {} brackets or using set() constructor.\n",
    "# Sets automatically remove duplicate elements and return unique elements\n",
    "\n",
    "mySet = {1,2,3,4,1,5}\n",
    "print(mySet)\n",
    "\n",
    "mySet1 = set({1,2,3,4,1,5})\n",
    "print(mySet1)"
   ]
  },
  {
   "cell_type": "code",
   "execution_count": 20,
   "metadata": {},
   "outputs": [
    {
     "name": "stdout",
     "output_type": "stream",
     "text": [
      "set()\n",
      "<class 'set'>\n",
      "<class 'dict'>\n",
      "{1, 2, 3, 4, 5, 6}\n"
     ]
    }
   ],
   "source": [
    "## Add element in a Set\n",
    "# As Sets are mutable, you can add or remove elements from Set\n",
    "\n",
    "mySet = set()   # Empty Set\n",
    "print(mySet)   \n",
    "print(type(mySet))\n",
    "\n",
    "mySet = {}\n",
    "print(type(mySet))\n",
    "\n",
    "# Adding elements to a set\n",
    "mySet = {1,2,3,4,1,5}\n",
    "mySet.add(6) \n",
    "print(mySet)  # Output: {1, 2, 3, 4, 5, 6}"
   ]
  },
  {
   "cell_type": "code",
   "execution_count": 16,
   "metadata": {},
   "outputs": [
    {
     "name": "stdout",
     "output_type": "stream",
     "text": [
      "{1, 2, 4, 5}\n",
      "{1, 2, 'orange', 'apple'}\n",
      "None\n",
      "{1, 2, 'apple'}\n",
      "{1, 2, 'apple'}\n"
     ]
    },
    {
     "ename": "KeyError",
     "evalue": "100",
     "output_type": "error",
     "traceback": [
      "\u001b[1;31m---------------------------------------------------------------------------\u001b[0m",
      "\u001b[1;31mKeyError\u001b[0m                                  Traceback (most recent call last)",
      "Cell \u001b[1;32mIn[16], line 22\u001b[0m\n\u001b[0;32m     19\u001b[0m mySet\u001b[39m.\u001b[39mdiscard(\u001b[39m100\u001b[39m)\n\u001b[0;32m     20\u001b[0m \u001b[39mprint\u001b[39m(mySet)\n\u001b[1;32m---> 22\u001b[0m mySet\u001b[39m.\u001b[39;49mremove(\u001b[39m100\u001b[39;49m)  \u001b[39m# Error: KeyError: 100\u001b[39;00m\n\u001b[0;32m     23\u001b[0m \u001b[39mprint\u001b[39m(mySet)  \n",
      "\u001b[1;31mKeyError\u001b[0m: 100"
     ]
    }
   ],
   "source": [
    "## Remove element from a Set\n",
    "# remove() method will not return anything, but will modify the original Set\n",
    "# If an element does not exists, remove() method return an error\n",
    "# discard() method is also used to remove elements from a set\n",
    "# If an element does not exists, discard() method does not return an error. \n",
    "\n",
    "mySet = {1,2,3,4,1,5}\n",
    "mySet.remove(3)\n",
    "print(mySet)  # Output: {1, 2, 4, 5, 6}\n",
    "\n",
    "# Removing elements from a set\n",
    "mySet = {1, 2, \"apple\", 68, \"orange\"}\n",
    "removedElement = mySet.remove(68)\n",
    "print(mySet)    # Output: {1, 2, 'orange', 'apple'}\n",
    "print(removedElement)   # Output: None \n",
    "\n",
    "mySet.discard(\"orange\")\n",
    "print(mySet)   # Output: {1, 2, 'apple'}\n",
    "mySet.discard(100)    # No error\n",
    "print(mySet)   # Output: {1, 2, 'apple'}\n",
    "\n",
    "mySet.remove(100)  # Error: KeyError: 100\n",
    "print(mySet)  "
   ]
  },
  {
   "cell_type": "code",
   "execution_count": 11,
   "metadata": {},
   "outputs": [
    {
     "name": "stdout",
     "output_type": "stream",
     "text": [
      "Original set: {1, 2, 3}\n",
      "After updating: {1, 2, 3, 4, 5, 6}\n",
      "After updating with another set: {1, 2, 3, 4, 5, 6, 7, 8, 9}\n"
     ]
    }
   ],
   "source": [
    "## update() Method\n",
    "# This method is used to add multiple elements at one time or add another Set in Original Set\n",
    "\n",
    "# Add multiple elements at one time\n",
    "mySet = {1, 2, 3}\n",
    "print(\"Original set:\", mySet)    # Output: Original set: {1, 2, 3}\n",
    "\n",
    "mySet.update([4, 5, 6])\n",
    "print(\"After updating:\", mySet)  # Output: After updating: {1, 2, 3, 4, 5, 6}\n",
    "\n",
    "# Update the set with another set\n",
    "otherSet = {7, 8, 9}\n",
    "mySet.update(otherSet)\n",
    "print(\"After updating with another set:\", mySet) \n",
    "# Output: After updating with another set: {1, 2, 3, 4, 5, 6, 7, 8, 9}"
   ]
  },
  {
   "cell_type": "code",
   "execution_count": 24,
   "metadata": {},
   "outputs": [
    {
     "name": "stdout",
     "output_type": "stream",
     "text": [
      "True\n",
      "False\n",
      "True\n"
     ]
    }
   ],
   "source": [
    "## Check element Membership in Set\n",
    "# In Python, the in keyword is used to check if an element exists in a set. \n",
    "# It returns a boolean value (True or False) based on whether the element is present in the set or not\n",
    "\n",
    "mySet = {1, 2, 3, 4, 5}\n",
    "\n",
    "# Check if an element exists in the set\n",
    "print(3 in mySet)  # Output: True\n",
    "print(6 in mySet)  # Output: False\n",
    "\n",
    "if 4 in mySet:\n",
    "    print(True)\n",
    "else:\n",
    "    print(False)"
   ]
  },
  {
   "cell_type": "code",
   "execution_count": 23,
   "metadata": {},
   "outputs": [
    {
     "name": "stdout",
     "output_type": "stream",
     "text": [
      "1\n",
      "2\n",
      "3\n",
      "4\n",
      "5\n"
     ]
    }
   ],
   "source": [
    "## Loop in Set\n",
    "# Iterating over a set\n",
    "\n",
    "mySet = {1, 2, 3, 4, 5}\n",
    "for element in mySet:\n",
    "    print(element)  # Output: 1, 2, 3, 4, 5, 6"
   ]
  },
  {
   "cell_type": "code",
   "execution_count": 27,
   "metadata": {},
   "outputs": [
    {
     "name": "stdout",
     "output_type": "stream",
     "text": [
      "Union using union() method: {1, 2, 3, 4, 5, 6, 7, 8}\n",
      "Union using union() method: {1, 2, 3, 4, 5, 6, 7, 8, 9, 10, 11}\n",
      "Union using | operator: {1, 2, 3, 4, 5, 6, 7, 8, 9, 10, 11}\n"
     ]
    }
   ],
   "source": [
    "## Union in Sets\n",
    "# The union operation in sets combines two or more sets, \n",
    "#   returning a new set that contains all the unique elements from the combined sets\n",
    "\n",
    "set1 = {1,3,5,7}\n",
    "set2 = {2,4,6,7,8}\n",
    "set3 = {9, 10, 11}\n",
    "\n",
    "# Using union() method\n",
    "unionResult = set1.union(set2)\n",
    "print(\"Union using union() method:\", unionResult)\n",
    "# Output: Union using union() method: {1, 2, 3, 4, 5, 6, 7, 8}\n",
    "\n",
    "# Multiple sets union\n",
    "unionResult = set1.union(set2, set3)\n",
    "print(\"Union using union() method:\", unionResult)\n",
    "\n",
    "# Using | (pipe) operator\n",
    "unionResult = set1 | set2 | set3\n",
    "print(\"Union using | operator:\", unionResult)\n",
    "# Output: Union using | operator: {1, 2, 3, 4, 5, 6, 7, 8}"
   ]
  },
  {
   "cell_type": "code",
   "execution_count": 30,
   "metadata": {},
   "outputs": [
    {
     "name": "stdout",
     "output_type": "stream",
     "text": [
      "Intersection using intersection() method: {3, 4}\n",
      "Intersection using intersection() method: {3, 4}\n",
      "Intersection using & operator: {3, 4}\n",
      "Intersection using & operator: {3, 4}\n"
     ]
    }
   ],
   "source": [
    "## Intersection in Set\n",
    "# The intersection operation in sets allows you to find the common elements between two or more sets\n",
    "# You can perform the intersection operation using the intersection() method or the & (ampersand) operator\n",
    "\n",
    "set1 = {1, 2, 3, 4}\n",
    "set2 = {3, 4, 5, 6}\n",
    "set3 = {3, 4, 6}\n",
    "\n",
    "# Using intersection() method\n",
    "intersectionResult = set1.intersection(set2)\n",
    "print(\"Intersection using intersection() method:\", intersectionResult)\n",
    "# Output: Intersection using intersection() method: {3, 4}\n",
    "\n",
    "# Multiple Set intersection\n",
    "intersectionResult = set1.intersection(set2, set3)\n",
    "print(\"Intersection using intersection() method:\", intersectionResult)\n",
    "# output: Intersection using intersection() method: {3, 4}\n",
    "\n",
    "# Using & operator\n",
    "intersectionResult = set1 & set2\n",
    "print(\"Intersection using & operator:\", intersectionResult)\n",
    "# Output: Intersection using & operator: {3, 4}\n",
    "\n",
    "# Using & operator on multiple Sets\n",
    "intersectionResult = set1 & set2 & set3\n",
    "print(\"Intersection using & operator:\", intersectionResult)\n",
    "# Output: Intersection using & operator: {3, 4}\n"
   ]
  },
  {
   "cell_type": "code",
   "execution_count": 44,
   "metadata": {},
   "outputs": [
    {
     "name": "stdout",
     "output_type": "stream",
     "text": [
      "Set Difference using - operator on two sets: {1, 2}\n",
      "Set Difference using - operator on more than two sets: {8}\n",
      "Set Difference using difference() method on two sets: {1, 2}\n",
      "Set Difference using difference() method on more than two sets: {8}\n",
      "\n",
      "Set Difference using ^ operator on two sets: {1, 2, 5, 6}\n",
      "Set Difference using ^ operator on more than two sets: {1, 2, 4, 5, 8}\n",
      "Set Difference using symmetric_difference() method on two sets: {1, 2, 5, 6}\n"
     ]
    }
   ],
   "source": [
    "### Difference between Sets\n",
    "# Difference between sets refers to finding the elements that exist in one set but not in another.\n",
    "# There are two types of differences: set difference and symmetric difference\n",
    "\n",
    "## Set difference\n",
    "set1 = {1, 2, 3, 4}\n",
    "set2 = {3, 4, 5, 6}\n",
    "set3 = {4, 6, 8}\n",
    "\n",
    "differenceResult = set1 - set2\n",
    "print(\"Set Difference using - operator on two sets:\", differenceResult)\n",
    "# Output: Set Difference using - operator on two sets: {1, 2}\n",
    "\n",
    "differenceResult = set3 - set1 - set2\n",
    "print(\"Set Difference using - operator on more than two sets:\", differenceResult)\n",
    "# Output: Set Difference using - operator on more than two sets: {8}\n",
    "\n",
    "differenceResult = set1.difference(set2)\n",
    "print(\"Set Difference using difference() method on two sets:\", differenceResult)\n",
    "# Output: Set Difference using difference() method on two sets: {1, 2}\n",
    "\n",
    "differenceResult = set3.difference(set1, set2)\n",
    "print(\"Set Difference using difference() method on more than two sets:\", differenceResult)\n",
    "# Output: Set Difference using difference() method on more than two sets: {8}\n",
    "\n",
    "print()\n",
    "\n",
    "## Symmetric Difference\n",
    "set1 = {1, 2, 3, 4}\n",
    "set2 = {3, 4, 5, 6}\n",
    "set3 = {4, 6, 8}\n",
    "\n",
    "differenceResult = set1 ^ set2\n",
    "print(\"Set Difference using ^ operator on two sets:\", differenceResult)\n",
    "# Output: Set Difference using ^ operator on two sets: {1, 2, 5, 6}\n",
    "\n",
    "differenceResult = set3 ^ set1 ^ set2\n",
    "print(\"Set Difference using ^ operator on more than two sets:\", differenceResult)\n",
    "# Output: Set Difference using ^ operator on more than two sets: {1, 2, 4, 5, 8}\n",
    "\n",
    "differenceResult = set1.symmetric_difference(set2)\n",
    "print(\"Set Difference using symmetric_difference() method on two sets:\", differenceResult)\n",
    "# Output: Set Difference using symmetric_difference() method on two sets: {1, 2, 5, 6}"
   ]
  },
  {
   "cell_type": "code",
   "execution_count": 53,
   "metadata": {},
   "outputs": [
    {
     "name": "stdout",
     "output_type": "stream",
     "text": [
      "Original set: {80, 2, 4, 24, 8, 9, 78}\n",
      "Popped element: 80\n",
      "Updated set: {2, 4, 24, 8, 9, 78}\n",
      "Popped element: 2\n",
      "Updated set: {4, 24, 8, 9, 78}\n"
     ]
    }
   ],
   "source": [
    "## pop() in Sets\n",
    "# removes and returns an arbitrary element from the set\n",
    "# Since sets are unordered collections, the specific element that is removed cannot be predicted\n",
    "\n",
    "mySet = {8, 4, 9, 2, 78, 24, 80}\n",
    "print(\"Original set:\", mySet)              # Output: Original set: {80, 2, 4, 24, 8, 9, 78}\n",
    "\n",
    "# Pop an element from the set\n",
    "poppedElement = mySet.pop()\n",
    "print(\"Popped element:\", poppedElement)    # Output: Popped element: 80\n",
    "print(\"Updated set:\", mySet)               # Output: Updated set: {2, 4, 24, 8, 9, 78}\n",
    "\n",
    "# Pop another element from the set\n",
    "poppedElement = mySet.pop()\n",
    "print(\"Popped element:\", poppedElement)    # Output: Popped element: 2\n",
    "print(\"Updated set:\", mySet)               # Output: Updated set: {4, 24, 8, 9, 78}"
   ]
  },
  {
   "cell_type": "code",
   "execution_count": 54,
   "metadata": {},
   "outputs": [
    {
     "name": "stdout",
     "output_type": "stream",
     "text": [
      "Original set: {1, 2, 3, 4, 5}\n",
      "Cleared set: set()\n"
     ]
    }
   ],
   "source": [
    "## Empty a Set\n",
    "# The clear() method is available for sets, which removes all elements from the set, making it empty. \n",
    "# The clear() method does not return any value\n",
    "\n",
    "mySet = {1, 2, 3, 4, 5}\n",
    "print(\"Original set:\", mySet)   # Output: Original set: {1, 2, 3, 4, 5}\n",
    "\n",
    "# Clear the set\n",
    "mySet.clear()\n",
    "print(\"Cleared set:\", mySet)    # Output: Cleared set: set()\n"
   ]
  }
 ],
 "metadata": {
  "kernelspec": {
   "display_name": "Python 3",
   "language": "python",
   "name": "python3"
  },
  "language_info": {
   "codemirror_mode": {
    "name": "ipython",
    "version": 3
   },
   "file_extension": ".py",
   "mimetype": "text/x-python",
   "name": "python",
   "nbconvert_exporter": "python",
   "pygments_lexer": "ipython3",
   "version": "3.11.0"
  },
  "orig_nbformat": 4
 },
 "nbformat": 4,
 "nbformat_minor": 2
}
